{
  "cells": [
    {
      "cell_type": "markdown",
      "metadata": {
        "id": "o5Im125tzlCU"
      },
      "source": [
        "Aris\n",
        "\n",
        "> Link Dataset : https://www.kaggle.com/lokkagle/movie-genre-data"
      ]
    },
    {
      "cell_type": "markdown",
      "metadata": {
        "id": "IzRxdQxzzyrB"
      },
      "source": [
        "Library"
      ]
    },
    {
      "cell_type": "code",
      "execution_count": 18,
      "metadata": {
        "id": "HT1pj1_4zRbM"
      },
      "outputs": [],
      "source": [
        "\n",
        "# u/ dataframe\n",
        "import pandas as pd\n",
        "import re\n",
        "\n",
        "\n",
        "# u/ split data\n",
        "from sklearn.model_selection import train_test_split\n",
        "\n",
        "# u/ preprocessing dan layer\n",
        "import tensorflow as tf\n",
        "from tensorflow.keras.preprocessing.text import Tokenizer\n",
        "from tensorflow.keras.preprocessing.sequence import pad_sequences\n",
        "from tensorflow.keras.layers import LSTM,Dense,Embedding,Dropout\n",
        "from tensorflow.keras.models import Sequential\n",
        "from tensorflow.keras.optimizers import Adam\n",
        "\n",
        "# u/ visualisasi plot\n",
        "import matplotlib.pyplot as plt"
      ]
    },
    {
      "cell_type": "markdown",
      "metadata": {
        "id": "0MhGTg8rz3c3"
      },
      "source": [
        "Read Dataset"
      ]
    },
    {
      "cell_type": "code",
      "execution_count": 19,
      "metadata": {
        "colab": {
          "base_uri": "https://localhost:8080/",
          "height": 349
        },
        "id": "WQbrOx3QBVoN",
        "outputId": "a020dca7-30b7-4518-a64b-0be8646d88a6"
      },
      "outputs": [
        {
          "data": {
            "text/html": [
              "<div>\n",
              "<style scoped>\n",
              "    .dataframe tbody tr th:only-of-type {\n",
              "        vertical-align: middle;\n",
              "    }\n",
              "\n",
              "    .dataframe tbody tr th {\n",
              "        vertical-align: top;\n",
              "    }\n",
              "\n",
              "    .dataframe thead th {\n",
              "        text-align: right;\n",
              "    }\n",
              "</style>\n",
              "<table border=\"1\" class=\"dataframe\">\n",
              "  <thead>\n",
              "    <tr style=\"text-align: right;\">\n",
              "      <th></th>\n",
              "      <th>id</th>\n",
              "      <th>text</th>\n",
              "      <th>genre</th>\n",
              "    </tr>\n",
              "  </thead>\n",
              "  <tbody>\n",
              "    <tr>\n",
              "      <th>0</th>\n",
              "      <td>0</td>\n",
              "      <td>eady dead, maybe even wishing he was. INT. 2ND...</td>\n",
              "      <td>thriller</td>\n",
              "    </tr>\n",
              "    <tr>\n",
              "      <th>1</th>\n",
              "      <td>2</td>\n",
              "      <td>t, summa cum laude and all. And I'm about to l...</td>\n",
              "      <td>comedy</td>\n",
              "    </tr>\n",
              "    <tr>\n",
              "      <th>2</th>\n",
              "      <td>3</td>\n",
              "      <td>up Come, I have a surprise.... She takes him ...</td>\n",
              "      <td>drama</td>\n",
              "    </tr>\n",
              "    <tr>\n",
              "      <th>3</th>\n",
              "      <td>4</td>\n",
              "      <td>ded by the two detectives. INT. JEFF'S APARTME...</td>\n",
              "      <td>thriller</td>\n",
              "    </tr>\n",
              "    <tr>\n",
              "      <th>4</th>\n",
              "      <td>5</td>\n",
              "      <td>nd dismounts, just as the other children reach...</td>\n",
              "      <td>drama</td>\n",
              "    </tr>\n",
              "  </tbody>\n",
              "</table>\n",
              "</div>"
            ],
            "text/plain": [
              "   id                                               text     genre\n",
              "0   0  eady dead, maybe even wishing he was. INT. 2ND...  thriller\n",
              "1   2  t, summa cum laude and all. And I'm about to l...    comedy\n",
              "2   3   up Come, I have a surprise.... She takes him ...     drama\n",
              "3   4  ded by the two detectives. INT. JEFF'S APARTME...  thriller\n",
              "4   5  nd dismounts, just as the other children reach...     drama"
            ]
          },
          "execution_count": 19,
          "metadata": {},
          "output_type": "execute_result"
        }
      ],
      "source": [
        "df = pd.read_csv(\"kaggle_movie_train.csv\")\n",
        "df.head()"
      ]
    },
    {
      "cell_type": "markdown",
      "metadata": {
        "id": "P92pDJTY2gl5"
      },
      "source": [
        "Mengecek jumlah value tiap genre"
      ]
    },
    {
      "cell_type": "code",
      "execution_count": 20,
      "metadata": {
        "id": "runs3aD52bdy"
      },
      "outputs": [
        {
          "data": {
            "text/plain": [
              "drama        8873\n",
              "thriller     6824\n",
              "comedy       2941\n",
              "action       2392\n",
              "sci-fi        613\n",
              "horror        456\n",
              "other         270\n",
              "adventure     147\n",
              "romance        63\n",
              "Name: genre, dtype: int64"
            ]
          },
          "execution_count": 20,
          "metadata": {},
          "output_type": "execute_result"
        }
      ],
      "source": [
        "df['genre'].value_counts()"
      ]
    },
    {
      "cell_type": "markdown",
      "metadata": {
        "id": "_yp-oMEs2m3y"
      },
      "source": [
        "Kesempatan kali ini akan menggunakan 4 genre saja yaitu comedy action sci-fi dan horror"
      ]
    },
    {
      "cell_type": "code",
      "execution_count": 22,
      "metadata": {
        "id": "KdYjlpJ22lwa"
      },
      "outputs": [
        {
          "data": {
            "text/plain": [
              "comedy    2941\n",
              "action    2392\n",
              "sci-fi     613\n",
              "horror     456\n",
              "other      270\n",
              "Name: genre, dtype: int64"
            ]
          },
          "execution_count": 22,
          "metadata": {},
          "output_type": "execute_result"
        }
      ],
      "source": [
        "# Menghapus genre selain 4 genre tersebut\n",
        "df = df[~df['genre'].isin(['drama','thriller','adventure','romance'])]\n",
        "df['genre'].value_counts()"
      ]
    },
    {
      "cell_type": "markdown",
      "metadata": {
        "id": "4HAiIlP43grO"
      },
      "source": [
        "Preprocessing kolom text "
      ]
    },
    {
      "cell_type": "code",
      "execution_count": 7,
      "metadata": {
        "id": "3Q5KYrBc3T9N"
      },
      "outputs": [
        {
          "data": {
            "text/html": [
              "<div>\n",
              "<style scoped>\n",
              "    .dataframe tbody tr th:only-of-type {\n",
              "        vertical-align: middle;\n",
              "    }\n",
              "\n",
              "    .dataframe tbody tr th {\n",
              "        vertical-align: top;\n",
              "    }\n",
              "\n",
              "    .dataframe thead th {\n",
              "        text-align: right;\n",
              "    }\n",
              "</style>\n",
              "<table border=\"1\" class=\"dataframe\">\n",
              "  <thead>\n",
              "    <tr style=\"text-align: right;\">\n",
              "      <th></th>\n",
              "      <th>genre</th>\n",
              "      <th>Text</th>\n",
              "    </tr>\n",
              "  </thead>\n",
              "  <tbody>\n",
              "    <tr>\n",
              "      <th>1</th>\n",
              "      <td>comedy</td>\n",
              "      <td>t summa cum laude and all And I m about to lau...</td>\n",
              "    </tr>\n",
              "    <tr>\n",
              "      <th>9</th>\n",
              "      <td>action</td>\n",
              "      <td>e reels as the world spins Sweat pours off him...</td>\n",
              "    </tr>\n",
              "    <tr>\n",
              "      <th>20</th>\n",
              "      <td>comedy</td>\n",
              "      <td>I say he s a man who ll go far Some people sa...</td>\n",
              "    </tr>\n",
              "    <tr>\n",
              "      <th>25</th>\n",
              "      <td>comedy</td>\n",
              "      <td>you find out where the bachelor party is COLE ...</td>\n",
              "    </tr>\n",
              "    <tr>\n",
              "      <th>29</th>\n",
              "      <td>comedy</td>\n",
              "      <td>ibly horrendous public break up on the quad Ag...</td>\n",
              "    </tr>\n",
              "  </tbody>\n",
              "</table>\n",
              "</div>"
            ],
            "text/plain": [
              "     genre                                               Text\n",
              "1   comedy  t summa cum laude and all And I m about to lau...\n",
              "9   action  e reels as the world spins Sweat pours off him...\n",
              "20  comedy   I say he s a man who ll go far Some people sa...\n",
              "25  comedy  you find out where the bachelor party is COLE ...\n",
              "29  comedy  ibly horrendous public break up on the quad Ag..."
            ]
          },
          "execution_count": 7,
          "metadata": {},
          "output_type": "execute_result"
        }
      ],
      "source": [
        "# Menghapus special character di kolom text\n",
        "df['Text'] = df['text'].map(lambda x: re.sub(r'\\W+', ' ', x))\n",
        "# drop kolom id dan text lama\n",
        "df = df.drop(['id', 'text'], axis=1)\n",
        "df.head()"
      ]
    },
    {
      "cell_type": "markdown",
      "metadata": {
        "id": "vdcozLPK3tL9"
      },
      "source": [
        "Pengecekan nilai kosong"
      ]
    },
    {
      "cell_type": "code",
      "execution_count": 23,
      "metadata": {
        "id": "j4V0Yg0v3tdm"
      },
      "outputs": [
        {
          "name": "stdout",
          "output_type": "stream",
          "text": [
            "data clean\n"
          ]
        }
      ],
      "source": [
        "# Mengecek nilai kosong \n",
        "havenull=df.isnull().values.any()\n",
        "if havenull:\n",
        "    print(\"data have null value\")\n",
        "else:\n",
        "     print(\"data clean\" )   "
      ]
    },
    {
      "cell_type": "markdown",
      "metadata": {
        "id": "6dZ4v3hE39nt"
      },
      "source": [
        "Pelabelan genre"
      ]
    },
    {
      "cell_type": "code",
      "execution_count": 24,
      "metadata": {
        "id": "Edq5diss39zc"
      },
      "outputs": [
        {
          "data": {
            "text/html": [
              "<div>\n",
              "<style scoped>\n",
              "    .dataframe tbody tr th:only-of-type {\n",
              "        vertical-align: middle;\n",
              "    }\n",
              "\n",
              "    .dataframe tbody tr th {\n",
              "        vertical-align: top;\n",
              "    }\n",
              "\n",
              "    .dataframe thead th {\n",
              "        text-align: right;\n",
              "    }\n",
              "</style>\n",
              "<table border=\"1\" class=\"dataframe\">\n",
              "  <thead>\n",
              "    <tr style=\"text-align: right;\">\n",
              "      <th></th>\n",
              "      <th>id</th>\n",
              "      <th>text</th>\n",
              "      <th>action</th>\n",
              "      <th>comedy</th>\n",
              "      <th>horror</th>\n",
              "      <th>other</th>\n",
              "      <th>sci-fi</th>\n",
              "    </tr>\n",
              "  </thead>\n",
              "  <tbody>\n",
              "    <tr>\n",
              "      <th>1</th>\n",
              "      <td>2</td>\n",
              "      <td>t, summa cum laude and all. And I'm about to l...</td>\n",
              "      <td>0</td>\n",
              "      <td>1</td>\n",
              "      <td>0</td>\n",
              "      <td>0</td>\n",
              "      <td>0</td>\n",
              "    </tr>\n",
              "    <tr>\n",
              "      <th>9</th>\n",
              "      <td>11</td>\n",
              "      <td>e reels as the world spins. Sweat pours off hi...</td>\n",
              "      <td>1</td>\n",
              "      <td>0</td>\n",
              "      <td>0</td>\n",
              "      <td>0</td>\n",
              "      <td>0</td>\n",
              "    </tr>\n",
              "    <tr>\n",
              "      <th>20</th>\n",
              "      <td>23</td>\n",
              "      <td>I say he's a man who'll go far. Some people s...</td>\n",
              "      <td>0</td>\n",
              "      <td>1</td>\n",
              "      <td>0</td>\n",
              "      <td>0</td>\n",
              "      <td>0</td>\n",
              "    </tr>\n",
              "    <tr>\n",
              "      <th>25</th>\n",
              "      <td>29</td>\n",
              "      <td>you find out where the bachelor party is? COLE...</td>\n",
              "      <td>0</td>\n",
              "      <td>1</td>\n",
              "      <td>0</td>\n",
              "      <td>0</td>\n",
              "      <td>0</td>\n",
              "    </tr>\n",
              "    <tr>\n",
              "      <th>29</th>\n",
              "      <td>33</td>\n",
              "      <td>ibly horrendous public break up on the quad. A...</td>\n",
              "      <td>0</td>\n",
              "      <td>1</td>\n",
              "      <td>0</td>\n",
              "      <td>0</td>\n",
              "      <td>0</td>\n",
              "    </tr>\n",
              "  </tbody>\n",
              "</table>\n",
              "</div>"
            ],
            "text/plain": [
              "    id                                               text  action  comedy  \\\n",
              "1    2  t, summa cum laude and all. And I'm about to l...       0       1   \n",
              "9   11  e reels as the world spins. Sweat pours off hi...       1       0   \n",
              "20  23   I say he's a man who'll go far. Some people s...       0       1   \n",
              "25  29  you find out where the bachelor party is? COLE...       0       1   \n",
              "29  33  ibly horrendous public break up on the quad. A...       0       1   \n",
              "\n",
              "    horror  other  sci-fi  \n",
              "1        0      0       0  \n",
              "9        0      0       0  \n",
              "20       0      0       0  \n",
              "25       0      0       0  \n",
              "29       0      0       0  "
            ]
          },
          "execution_count": 24,
          "metadata": {},
          "output_type": "execute_result"
        }
      ],
      "source": [
        "genre = pd.get_dummies(df.genre)\n",
        "df_genre = pd.concat([df, genre], axis=1)\n",
        "df_genre = df_genre.drop(columns='genre')\n",
        "df_genre.head()"
      ]
    },
    {
      "cell_type": "markdown",
      "metadata": {
        "id": "sTZx-_al4rrt"
      },
      "source": [
        "Mengubah tipe data"
      ]
    },
    {
      "cell_type": "code",
      "execution_count": 10,
      "metadata": {
        "id": "K_lMTx384r-U"
      },
      "outputs": [],
      "source": [
        "# Mengubah tipe data menjadi str dan numpy array \n",
        "text = df_genre['Text'].astype(str)\n",
        "label = df_genre[['action', 'comedy','horror','sci-fi']].values"
      ]
    },
    {
      "cell_type": "markdown",
      "metadata": {
        "id": "h4Uf7A7R45J9"
      },
      "source": [
        "Split dataset 20% test / validasi"
      ]
    },
    {
      "cell_type": "code",
      "execution_count": 11,
      "metadata": {
        "id": "XTdVGpZz45h8"
      },
      "outputs": [],
      "source": [
        "genre_train, genre_test, label_train, label_test = train_test_split(text, label, test_size = 0.2)"
      ]
    },
    {
      "cell_type": "markdown",
      "metadata": {
        "id": "skB01cb45BTK"
      },
      "source": [
        "Penggunaan tokenizer"
      ]
    },
    {
      "cell_type": "code",
      "execution_count": 12,
      "metadata": {
        "id": "t4B4DDcQ5JXc"
      },
      "outputs": [],
      "source": [
        "# mengkonversikan ke sequence\n",
        "tokenizer = Tokenizer(num_words=5000, oov_token='x')\n",
        "tokenizer.fit_on_texts(genre_train) \n",
        "tokenizer.fit_on_texts(genre_test)\n",
        " \n",
        "sekuens_train = tokenizer.texts_to_sequences(genre_train)\n",
        "sekuens_test = tokenizer.texts_to_sequences(genre_test)\n",
        " \n",
        "padded_train = pad_sequences(sekuens_train) \n",
        "padded_test = pad_sequences(sekuens_test)"
      ]
    },
    {
      "cell_type": "markdown",
      "metadata": {
        "id": "Ym33M_h25OPr"
      },
      "source": [
        "Pemodelan Sequential dengan Embedding dan LSTM"
      ]
    },
    {
      "cell_type": "code",
      "execution_count": 13,
      "metadata": {
        "id": "-mtEbY4A5WeO"
      },
      "outputs": [
        {
          "name": "stderr",
          "output_type": "stream",
          "text": [
            "2022-11-29 05:53:38.748212: I tensorflow/compiler/xla/stream_executor/cuda/cuda_gpu_executor.cc:981] successful NUMA node read from SysFS had negative value (-1), but there must be at least one NUMA node, so returning NUMA node zero\n",
            "2022-11-29 05:53:38.749693: W tensorflow/compiler/xla/stream_executor/platform/default/dso_loader.cc:64] Could not load dynamic library 'libcudart.so.11.0'; dlerror: libcudart.so.11.0: cannot open shared object file: No such file or directory\n",
            "2022-11-29 05:53:38.750301: W tensorflow/compiler/xla/stream_executor/platform/default/dso_loader.cc:64] Could not load dynamic library 'libcublas.so.11'; dlerror: libcublas.so.11: cannot open shared object file: No such file or directory\n",
            "2022-11-29 05:53:38.750528: W tensorflow/compiler/xla/stream_executor/platform/default/dso_loader.cc:64] Could not load dynamic library 'libcublasLt.so.11'; dlerror: libcublasLt.so.11: cannot open shared object file: No such file or directory\n",
            "2022-11-29 05:53:38.750701: W tensorflow/compiler/xla/stream_executor/platform/default/dso_loader.cc:64] Could not load dynamic library 'libcufft.so.10'; dlerror: libcufft.so.10: cannot open shared object file: No such file or directory\n",
            "2022-11-29 05:53:38.750860: W tensorflow/compiler/xla/stream_executor/platform/default/dso_loader.cc:64] Could not load dynamic library 'libcurand.so.10'; dlerror: libcurand.so.10: cannot open shared object file: No such file or directory\n",
            "2022-11-29 05:53:38.751217: W tensorflow/compiler/xla/stream_executor/platform/default/dso_loader.cc:64] Could not load dynamic library 'libcusolver.so.11'; dlerror: libcusolver.so.11: cannot open shared object file: No such file or directory\n",
            "2022-11-29 05:53:38.751741: W tensorflow/compiler/xla/stream_executor/platform/default/dso_loader.cc:64] Could not load dynamic library 'libcusparse.so.11'; dlerror: libcusparse.so.11: cannot open shared object file: No such file or directory\n",
            "2022-11-29 05:53:38.751929: W tensorflow/compiler/xla/stream_executor/platform/default/dso_loader.cc:64] Could not load dynamic library 'libcudnn.so.8'; dlerror: libcudnn.so.8: cannot open shared object file: No such file or directory\n",
            "2022-11-29 05:53:38.751961: W tensorflow/core/common_runtime/gpu/gpu_device.cc:1934] Cannot dlopen some GPU libraries. Please make sure the missing libraries mentioned above are installed properly if you would like to use GPU. Follow the guide at https://www.tensorflow.org/install/gpu for how to download and setup the required libraries for your platform.\n",
            "Skipping registering GPU devices...\n",
            "2022-11-29 05:53:38.753285: I tensorflow/core/platform/cpu_feature_guard.cc:193] This TensorFlow binary is optimized with oneAPI Deep Neural Network Library (oneDNN) to use the following CPU instructions in performance-critical operations:  AVX2 FMA\n",
            "To enable them in other operations, rebuild TensorFlow with the appropriate compiler flags.\n"
          ]
        }
      ],
      "source": [
        "model = Sequential([\n",
        "    Embedding(input_dim=5000, output_dim=16),\n",
        "    LSTM(64),\n",
        "    Dense(128, activation='relu'),\n",
        "    Dropout(0.5),\n",
        "    Dense(4, activation='softmax')\n",
        "])"
      ]
    },
    {
      "cell_type": "markdown",
      "metadata": {
        "id": "jtNHjdKv5ZhT"
      },
      "source": [
        "Model compiile dengan optimizer Adam"
      ]
    },
    {
      "cell_type": "code",
      "execution_count": 14,
      "metadata": {
        "id": "iqqbXOrH5bat"
      },
      "outputs": [],
      "source": [
        "Adam(learning_rate=0.00146, name='Adam')\n",
        "model.compile(optimizer = 'Adam',loss = 'categorical_crossentropy',metrics = ['accuracy'])"
      ]
    },
    {
      "cell_type": "markdown",
      "metadata": {
        "id": "Er1hRcWh5l0r"
      },
      "source": [
        "Penggunaan callback u/ accuracy dan val diatas 90%"
      ]
    },
    {
      "cell_type": "code",
      "execution_count": 15,
      "metadata": {
        "id": "ri5GZe-F5mEC"
      },
      "outputs": [],
      "source": [
        "class myCallback(tf.keras.callbacks.Callback):\n",
        "  def on_epoch_end(self, epoch, logs={}):\n",
        "    if(logs.get('accuracy')>0.9 and logs.get('val_accuracy')>0.9):\n",
        "      print(\"\\nAkurasi train dan validasi didapat telah mencapai nilai > 90%!\")\n",
        "      self.model.stop_training = True\n",
        "callbacks = myCallback()"
      ]
    },
    {
      "cell_type": "markdown",
      "metadata": {
        "id": "SoIiMFMQ5yyy"
      },
      "source": [
        "Melatih model"
      ]
    },
    {
      "cell_type": "code",
      "execution_count": 16,
      "metadata": {
        "id": "EMlZbNgj5yJt"
      },
      "outputs": [
        {
          "name": "stdout",
          "output_type": "stream",
          "text": [
            "Epoch 1/30\n",
            "161/161 - 24s - loss: 1.1758 - accuracy: 0.4398 - val_loss: 1.1100 - val_accuracy: 0.4668 - 24s/epoch - 147ms/step\n",
            "Epoch 2/30\n",
            "161/161 - 19s - loss: 0.9472 - accuracy: 0.5026 - val_loss: 0.8195 - val_accuracy: 0.5847 - 19s/epoch - 121ms/step\n",
            "Epoch 3/30\n",
            "161/161 - 21s - loss: 0.7396 - accuracy: 0.6061 - val_loss: 0.8204 - val_accuracy: 0.5706 - 21s/epoch - 128ms/step\n",
            "Epoch 4/30\n",
            "161/161 - 20s - loss: 0.5876 - accuracy: 0.7383 - val_loss: 0.7942 - val_accuracy: 0.6870 - 20s/epoch - 125ms/step\n",
            "Epoch 5/30\n",
            "161/161 - 19s - loss: 0.4395 - accuracy: 0.8371 - val_loss: 0.5242 - val_accuracy: 0.8220 - 19s/epoch - 119ms/step\n",
            "Epoch 6/30\n",
            "161/161 - 21s - loss: 0.3639 - accuracy: 0.8549 - val_loss: 0.5512 - val_accuracy: 0.8384 - 21s/epoch - 130ms/step\n",
            "Epoch 7/30\n",
            "161/161 - 20s - loss: 0.2222 - accuracy: 0.9020 - val_loss: 0.4439 - val_accuracy: 0.8579 - 20s/epoch - 122ms/step\n",
            "Epoch 8/30\n",
            "161/161 - 21s - loss: 0.1714 - accuracy: 0.9190 - val_loss: 0.4685 - val_accuracy: 0.8634 - 21s/epoch - 129ms/step\n",
            "Epoch 9/30\n",
            "161/161 - 23s - loss: 0.1546 - accuracy: 0.9299 - val_loss: 0.4347 - val_accuracy: 0.8564 - 23s/epoch - 141ms/step\n",
            "Epoch 10/30\n",
            "161/161 - 24s - loss: 0.1316 - accuracy: 0.9461 - val_loss: 0.4256 - val_accuracy: 0.8689 - 24s/epoch - 149ms/step\n",
            "Epoch 11/30\n",
            "161/161 - 23s - loss: 0.0968 - accuracy: 0.9650 - val_loss: 0.5042 - val_accuracy: 0.8618 - 23s/epoch - 140ms/step\n",
            "Epoch 12/30\n",
            "161/161 - 22s - loss: 0.0689 - accuracy: 0.9766 - val_loss: 0.5235 - val_accuracy: 0.8735 - 22s/epoch - 134ms/step\n",
            "Epoch 13/30\n",
            "161/161 - 20s - loss: 0.0557 - accuracy: 0.9797 - val_loss: 0.5728 - val_accuracy: 0.8501 - 20s/epoch - 126ms/step\n",
            "Epoch 14/30\n",
            "161/161 - 21s - loss: 0.0571 - accuracy: 0.9803 - val_loss: 0.5197 - val_accuracy: 0.8868 - 21s/epoch - 130ms/step\n",
            "Epoch 15/30\n",
            "161/161 - 24s - loss: 0.0400 - accuracy: 0.9885 - val_loss: 0.5179 - val_accuracy: 0.8696 - 24s/epoch - 148ms/step\n",
            "Epoch 16/30\n",
            "161/161 - 21s - loss: 0.0194 - accuracy: 0.9936 - val_loss: 0.5488 - val_accuracy: 0.8860 - 21s/epoch - 129ms/step\n",
            "Epoch 17/30\n",
            "161/161 - 19s - loss: 0.0307 - accuracy: 0.9900 - val_loss: 0.5144 - val_accuracy: 0.8915 - 19s/epoch - 116ms/step\n",
            "Epoch 18/30\n",
            "161/161 - 19s - loss: 0.0241 - accuracy: 0.9939 - val_loss: 0.6280 - val_accuracy: 0.8852 - 19s/epoch - 121ms/step\n",
            "Epoch 19/30\n",
            "161/161 - 19s - loss: 0.0634 - accuracy: 0.9813 - val_loss: 0.5060 - val_accuracy: 0.8696 - 19s/epoch - 119ms/step\n",
            "Epoch 20/30\n",
            "161/161 - 19s - loss: 0.0212 - accuracy: 0.9938 - val_loss: 0.5348 - val_accuracy: 0.8923 - 19s/epoch - 119ms/step\n",
            "Epoch 21/30\n",
            "161/161 - 19s - loss: 0.0185 - accuracy: 0.9945 - val_loss: 0.5058 - val_accuracy: 0.8751 - 19s/epoch - 119ms/step\n",
            "Epoch 22/30\n",
            "\n",
            "Akurasi train dan validasi didapat telah mencapai nilai > 90%!\n",
            "161/161 - 19s - loss: 0.0034 - accuracy: 0.9994 - val_loss: 0.5241 - val_accuracy: 0.9024 - 19s/epoch - 121ms/step\n"
          ]
        }
      ],
      "source": [
        "num_epochs = 30\n",
        "history = model.fit(padded_train, label_train, epochs=num_epochs, validation_data=(padded_test, label_test), verbose=2, callbacks=[callbacks])"
      ]
    },
    {
      "cell_type": "markdown",
      "metadata": {
        "id": "n8tM2QUR3UqS"
      },
      "source": [
        "Membuat plot accuracy dan loss"
      ]
    },
    {
      "cell_type": "code",
      "execution_count": 17,
      "metadata": {
        "id": "aK3VEMMEMrJ6"
      },
      "outputs": [
        {
          "data": {
            "image/png": "[encoded data removed]",
            "text/plain": [
              "<Figure size 640x480 with 1 Axes>"
            ]
          },
          "metadata": {},
          "output_type": "display_data"
        },
        {
          "data": {
            "image/png": "[encoded data removed]",
            "text/plain": [
              "<Figure size 640x480 with 1 Axes>"
            ]
          },
          "metadata": {},
          "output_type": "display_data"
        }
      ],
      "source": [
        "# Plot Accuracy\n",
        "plt.plot(history.history['accuracy'])\n",
        "plt.plot(history.history['val_accuracy'])\n",
        "plt.title('Akurasi Model')\n",
        "plt.ylabel('accuracy')\n",
        "plt.xlabel('epoch')\n",
        "plt.legend(['train', 'test'], loc='upper left')\n",
        "plt.show()\n",
        "\n",
        "# Plot Loss\n",
        "plt.plot(history.history['loss'])\n",
        "plt.plot(history.history['val_loss'])\n",
        "plt.title('Loss Model')\n",
        "plt.ylabel('loss')\n",
        "plt.xlabel('epoch')\n",
        "plt.legend(['train', 'test'], loc='upper left')\n",
        "plt.show()\n"
      ]
    }
  ],
  "metadata": {
    "colab": {
      "provenance": []
    },
    "kernelspec": {
      "display_name": "Python 3.10.6 64-bit",
      "language": "python",
      "name": "python3"
    },
    "language_info": {
      "codemirror_mode": {
        "name": "ipython",
        "version": 3
      },
      "file_extension": ".py",
      "mimetype": "text/x-python",
      "name": "python",
      "nbconvert_exporter": "python",
      "pygments_lexer": "ipython3",
      "version": "3.10.6"
    },
    "vscode": {
      "interpreter": {
        "hash": "916dbcbb3f70747c44a77c7bcd40155683ae19c65e1c03b4aa3499c5328201f1"
      }
    }
  },
  "nbformat": 4,
  "nbformat_minor": 0
}
